{
  "nbformat": 4,
  "nbformat_minor": 0,
  "metadata": {
    "colab": {
      "name": "Deep_learning_with_Python-Chollet.ipynb",
      "provenance": [],
      "authorship_tag": "ABX9TyOH3kfyoC3DfewsHKJ2/2Ic",
      "include_colab_link": true
    },
    "kernelspec": {
      "name": "python3",
      "display_name": "Python 3"
    },
    "language_info": {
      "name": "python"
    }
  },
  "cells": [
    {
      "cell_type": "markdown",
      "metadata": {
        "id": "view-in-github",
        "colab_type": "text"
      },
      "source": [
        "<a href=\"https://colab.research.google.com/github/AbelS4l4S/Learning_DeepLearning/blob/main/Deep_learning_with_Python_Chollet.ipynb\" target=\"_parent\"><img src=\"https://colab.research.google.com/assets/colab-badge.svg\" alt=\"Open In Colab\"/></a>"
      ]
    },
    {
      "cell_type": "markdown",
      "metadata": {
        "id": "d2alhkQJ2D9D"
      },
      "source": [
        "# **Capítlo 2:** Bloques matemáticos de las redes neuronales\n",
        "* **Clase:** Las clases son las categorías de una clasificación\n",
        "* **Ejemplos:** Son los elementos que se van a clasificar\n",
        "* **Etiqueta:** Son los ejemplos emparejados a la clase que les corresponde"
      ]
    },
    {
      "cell_type": "code",
      "metadata": {
        "id": "5Yw-gOdc1MsX"
      },
      "source": [
        "from keras.datasets import mnist"
      ],
      "execution_count": 2,
      "outputs": []
    },
    {
      "cell_type": "code",
      "metadata": {
        "id": "urIei5us7V5d"
      },
      "source": [
        "from keras import models\n",
        "from keras import layers"
      ],
      "execution_count": 3,
      "outputs": []
    },
    {
      "cell_type": "code",
      "metadata": {
        "id": "8oJS7kl6FiM3"
      },
      "source": [
        "from keras.utils import to_categorical"
      ],
      "execution_count": 4,
      "outputs": []
    },
    {
      "cell_type": "code",
      "metadata": {
        "id": "crCcNzZo31M4"
      },
      "source": [
        "(tr_img,tr_lbls),(tst_img,tst_lbls)=mnist.load_data()"
      ],
      "execution_count": null,
      "outputs": []
    },
    {
      "cell_type": "code",
      "metadata": {
        "id": "iE7qC1qv4ndm"
      },
      "source": [
        "#Datos de entrenamiento\n",
        "print('Imágenes de números')\n",
        "print('Dimesión de la matriz que contiene las imágenes: ',tr_img.shape)\n",
        "print('Son',tr_img.shape[0],'imágenes, de un tamaño de',tr_img.shape[1],\n",
        "      'por',tr_img.shape[2],'pixeles')\n",
        "print(30*'-')\n",
        "\n",
        "print('Etiquetas de clase')\n",
        "print(tr_lbls)"
      ],
      "execution_count": null,
      "outputs": []
    },
    {
      "cell_type": "code",
      "metadata": {
        "id": "KvX5K3X16yUp"
      },
      "source": [
        "#Datos de prueba\n",
        "print('Imágenes de números')\n",
        "print('Dimesión de la matriz que contiene las imágenes: ',tst_img.shape)\n",
        "print('Son',tst_img.shape[0],'imágenes, de un tamaño de',tst_img.shape[1],\n",
        "      'por',tst_img.shape[2],'pixeles')\n",
        "print(30*'-')\n",
        "\n",
        "print('Etiquetas de clase')\n",
        "print(tst_lbls)"
      ],
      "execution_count": null,
      "outputs": []
    },
    {
      "cell_type": "code",
      "metadata": {
        "id": "us7xL6VQ7e6i"
      },
      "source": [
        "#creando la red neuronal\n",
        "red_neu=models.Sequential()\n",
        "red_neu.add(layers.Dense(512,activation='relu',input_shape=(28*28,)))\n",
        "red_neu.add(layers.Dense(10,activation='softmax'))"
      ],
      "execution_count": 8,
      "outputs": []
    },
    {
      "cell_type": "markdown",
      "metadata": {
        "id": "OLQ8MBSKArdC"
      },
      "source": [
        "**Error:** 'int' object is not iterable\n",
        "\n",
        "**Causa del error:** Desconocida\n",
        "\n",
        "**Solución:** red_neu.add(layers.Dense(512,activation='relu',input_shape=(28*28))) no se escribió la coma despúes del 28 por 28"
      ]
    },
    {
      "cell_type": "code",
      "metadata": {
        "id": "gd-dyxMp9QHz"
      },
      "source": [
        "#Paso de compilación\n",
        "red_neu.compile(optimizer='rmsprop',\n",
        "                loss='categorical_crossentropy',\n",
        "                metrics=['accuracy'])"
      ],
      "execution_count": 9,
      "outputs": []
    },
    {
      "cell_type": "code",
      "metadata": {
        "id": "73XlDdKUAUZo"
      },
      "source": [
        "# Preparando las imágenes\n",
        "tr_img=tr_img.reshape((60000,28*28))\n",
        "tr_img=tr_img.astype('float32')/255\n",
        "\n",
        "tst_img=tst_img.reshape((10000,28*28))\n",
        "tr_img=tr_img.astype('float32')/255"
      ],
      "execution_count": 10,
      "outputs": []
    },
    {
      "cell_type": "code",
      "metadata": {
        "id": "EFe1mO4tFvEB"
      },
      "source": [
        "# Preparando las etiquetas\n",
        "tr_lbls=to_categorical(tr_lbls)\n",
        "tst_lbls=to_categorical(tst_lbls)"
      ],
      "execution_count": 11,
      "outputs": []
    },
    {
      "cell_type": "code",
      "metadata": {
        "id": "Qn5fpaU0GLLc"
      },
      "source": [
        "#Entrenado la red neuronal\n",
        "red_neu.fit(tr_img,tr_lbls,epochs=5,batch_size=128)"
      ],
      "execution_count": null,
      "outputs": []
    },
    {
      "cell_type": "markdown",
      "metadata": {
        "id": "So1x-PsiHZG7"
      },
      "source": [
        "**Error:** You must compile your model before training/testing. Use model.compile(optimizer, loss)\n",
        "\n",
        "**Causa del error:** No se había importado from keras.utils import to_categorical y no se error de nombración\n",
        "\n",
        "**Solución:**"
      ]
    },
    {
      "cell_type": "code",
      "metadata": {
        "id": "jHdKMTQHJXtJ"
      },
      "source": [
        "# Prueba del modelo\n",
        "test_loss,test_acc=red_neu.evaluate(tst_img,tst_lbls)\n",
        "print('test_acc:',test_acc)"
      ],
      "execution_count": null,
      "outputs": []
    }
  ]
}