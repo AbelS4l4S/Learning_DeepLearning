{
  "nbformat": 4,
  "nbformat_minor": 0,
  "metadata": {
    "colab": {
      "name": "Deep_learning_with_Python-Chollet.ipynb",
      "provenance": [],
      "authorship_tag": "ABX9TyMkJMO6P0iWDsE2LfQpl4fT",
      "include_colab_link": true
    },
    "kernelspec": {
      "name": "python3",
      "display_name": "Python 3"
    },
    "language_info": {
      "name": "python"
    }
  },
  "cells": [
    {
      "cell_type": "markdown",
      "metadata": {
        "id": "view-in-github",
        "colab_type": "text"
      },
      "source": [
        "<a href=\"https://colab.research.google.com/github/AbelS4l4S/Learning_DeepLearning/blob/main/Deep_learning_with_Python_Chollet.ipynb\" target=\"_parent\"><img src=\"https://colab.research.google.com/assets/colab-badge.svg\" alt=\"Open In Colab\"/></a>"
      ]
    },
    {
      "cell_type": "markdown",
      "metadata": {
        "id": "d2alhkQJ2D9D"
      },
      "source": [
        "# **Capítlo 2:** Bloques matemáticos de las redes neuronales\n",
        "* **Clase:** Las clases son las categorías de una clasificación\n",
        "* **Ejemplos:** Son los elementos que se van a clasificar\n",
        "* **Etiqueta:** Son los ejemplos emparejados a la clase que les corresponde"
      ]
    },
    {
      "cell_type": "code",
      "metadata": {
        "id": "5Yw-gOdc1MsX"
      },
      "source": [
        "from keras.datasets import mnist"
      ],
      "execution_count": null,
      "outputs": []
    },
    {
      "cell_type": "code",
      "metadata": {
        "id": "urIei5us7V5d"
      },
      "source": [
        "from keras import models\n",
        "from keras import layers"
      ],
      "execution_count": null,
      "outputs": []
    },
    {
      "cell_type": "code",
      "metadata": {
        "id": "8oJS7kl6FiM3"
      },
      "source": [
        "from keras.utils import to_categorical"
      ],
      "execution_count": null,
      "outputs": []
    },
    {
      "cell_type": "code",
      "metadata": {
        "id": "rUnfPz54knyo"
      },
      "source": [
        "import numpy as np"
      ],
      "execution_count": null,
      "outputs": []
    },
    {
      "cell_type": "code",
      "metadata": {
        "id": "TpS3FmffsRAW"
      },
      "source": [
        "import matplotlib.pyplot as plt"
      ],
      "execution_count": null,
      "outputs": []
    },
    {
      "cell_type": "code",
      "metadata": {
        "id": "crCcNzZo31M4",
        "colab": {
          "base_uri": "https://localhost:8080/"
        },
        "outputId": "7807bf19-9402-4f78-93c3-d705aae21f77"
      },
      "source": [
        "(tr_img,tr_lbls),(tst_img,tst_lbls)=mnist.load_data()"
      ],
      "execution_count": null,
      "outputs": [
        {
          "output_type": "stream",
          "text": [
            "Downloading data from https://storage.googleapis.com/tensorflow/tf-keras-datasets/mnist.npz\n",
            "11493376/11490434 [==============================] - 0s 0us/step\n"
          ],
          "name": "stdout"
        }
      ]
    },
    {
      "cell_type": "code",
      "metadata": {
        "id": "iE7qC1qv4ndm",
        "colab": {
          "base_uri": "https://localhost:8080/"
        },
        "outputId": "b6420ade-e143-44bf-f9bf-0138d0a17699"
      },
      "source": [
        "#Datos de entrenamiento\n",
        "print('Imágenes de números')\n",
        "print('Dimesión de la matriz que contiene las imágenes: ',tr_img.shape)\n",
        "print('Son',tr_img.shape[0],'imágenes, de un tamaño de',tr_img.shape[1],\n",
        "      'por',tr_img.shape[2],'pixeles')\n",
        "print(30*'-')\n",
        "\n",
        "print('Etiquetas de clase')\n",
        "print(tr_lbls)"
      ],
      "execution_count": null,
      "outputs": [
        {
          "output_type": "stream",
          "text": [
            "Imágenes de números\n",
            "Dimesión de la matriz que contiene las imágenes:  (60000, 28, 28)\n",
            "Son 60000 imágenes, de un tamaño de 28 por 28 pixeles\n",
            "------------------------------\n",
            "Etiquetas de clase\n",
            "[5 0 4 ... 5 6 8]\n"
          ],
          "name": "stdout"
        }
      ]
    },
    {
      "cell_type": "code",
      "metadata": {
        "id": "KvX5K3X16yUp",
        "colab": {
          "base_uri": "https://localhost:8080/"
        },
        "outputId": "ba1c1fd2-07bf-440e-bdd1-1120202ebd2a"
      },
      "source": [
        "#Datos de prueba\n",
        "print('Imágenes de números')\n",
        "print('Dimesión de la matriz que contiene las imágenes: ',tst_img.shape)\n",
        "print('Son',tst_img.shape[0],'imágenes, de un tamaño de',tst_img.shape[1],\n",
        "      'por',tst_img.shape[2],'pixeles')\n",
        "print(30*'-')\n",
        "\n",
        "print('Etiquetas de clase')\n",
        "print(tst_lbls)"
      ],
      "execution_count": null,
      "outputs": [
        {
          "output_type": "stream",
          "text": [
            "Imágenes de números\n",
            "Dimesión de la matriz que contiene las imágenes:  (10000, 28, 28)\n",
            "Son 10000 imágenes, de un tamaño de 28 por 28 pixeles\n",
            "------------------------------\n",
            "Etiquetas de clase\n",
            "[7 2 1 ... 4 5 6]\n"
          ],
          "name": "stdout"
        }
      ]
    },
    {
      "cell_type": "code",
      "metadata": {
        "id": "us7xL6VQ7e6i"
      },
      "source": [
        "#creando la red neuronal\n",
        "red_neu=models.Sequential()\n",
        "red_neu.add(layers.Dense(512,activation='relu',input_shape=(28*28,)))\n",
        "red_neu.add(layers.Dense(10,activation='softmax'))"
      ],
      "execution_count": null,
      "outputs": []
    },
    {
      "cell_type": "markdown",
      "metadata": {
        "id": "OLQ8MBSKArdC"
      },
      "source": [
        "**Error:** 'int' object is not iterable\n",
        "\n",
        "**Causa del error:** Desconocida\n",
        "\n",
        "**Solución:** red_neu.add(layers.Dense(512,activation='relu',input_shape=(28*28))) no se escribió la coma despúes del 28 por 28"
      ]
    },
    {
      "cell_type": "code",
      "metadata": {
        "id": "gd-dyxMp9QHz"
      },
      "source": [
        "#Paso de compilación\n",
        "red_neu.compile(optimizer='rmsprop',\n",
        "                loss='categorical_crossentropy',\n",
        "                metrics=['accuracy'])"
      ],
      "execution_count": null,
      "outputs": []
    },
    {
      "cell_type": "code",
      "metadata": {
        "id": "73XlDdKUAUZo"
      },
      "source": [
        "# Preparando las imágenes\n",
        "tr_img=tr_img.reshape((60000,28*28))\n",
        "tr_img=tr_img.astype('float32')/255\n",
        "\n",
        "tst_img=tst_img.reshape((10000,28*28))\n",
        "tr_img=tr_img.astype('float32')/255"
      ],
      "execution_count": null,
      "outputs": []
    },
    {
      "cell_type": "code",
      "metadata": {
        "id": "EFe1mO4tFvEB"
      },
      "source": [
        "# Preparando las etiquetas\n",
        "tr_lbls=to_categorical(tr_lbls)\n",
        "tst_lbls=to_categorical(tst_lbls)"
      ],
      "execution_count": null,
      "outputs": []
    },
    {
      "cell_type": "code",
      "metadata": {
        "id": "Qn5fpaU0GLLc",
        "colab": {
          "base_uri": "https://localhost:8080/"
        },
        "outputId": "eed5e228-5f2c-4035-caff-ee79d4f0707f"
      },
      "source": [
        "#Entrenado la red neuronal\n",
        "red_neu.fit(tr_img,tr_lbls,epochs=5,batch_size=128)"
      ],
      "execution_count": null,
      "outputs": [
        {
          "output_type": "stream",
          "text": [
            "Epoch 1/5\n",
            "469/469 [==============================] - 6s 11ms/step - loss: 1.9076 - accuracy: 0.5560\n",
            "Epoch 2/5\n",
            "469/469 [==============================] - 5s 11ms/step - loss: 0.6742 - accuracy: 0.8357\n",
            "Epoch 3/5\n",
            "469/469 [==============================] - 5s 11ms/step - loss: 0.4364 - accuracy: 0.8838\n",
            "Epoch 4/5\n",
            "469/469 [==============================] - 5s 10ms/step - loss: 0.3591 - accuracy: 0.8991\n",
            "Epoch 5/5\n",
            "469/469 [==============================] - 5s 11ms/step - loss: 0.3293 - accuracy: 0.9066\n"
          ],
          "name": "stdout"
        },
        {
          "output_type": "execute_result",
          "data": {
            "text/plain": [
              "<tensorflow.python.keras.callbacks.History at 0x7f4162262490>"
            ]
          },
          "metadata": {
            "tags": []
          },
          "execution_count": 15
        }
      ]
    },
    {
      "cell_type": "markdown",
      "metadata": {
        "id": "So1x-PsiHZG7"
      },
      "source": [
        "**Error:** You must compile your model before training/testing. Use model.compile(optimizer, loss)\n",
        "\n",
        "**Causa del error:** No se había importado from keras.utils import to_categorical y no se error de nombración\n",
        "\n",
        "**Solución:**"
      ]
    },
    {
      "cell_type": "code",
      "metadata": {
        "id": "jHdKMTQHJXtJ",
        "colab": {
          "base_uri": "https://localhost:8080/"
        },
        "outputId": "9c8f355d-339a-4215-af9a-76a8f9ee8e49"
      },
      "source": [
        "# Prueba del modelo\n",
        "test_loss,test_acc=red_neu.evaluate(tst_img,tst_lbls)\n",
        "print('test_acc:',test_acc)"
      ],
      "execution_count": null,
      "outputs": [
        {
          "output_type": "stream",
          "text": [
            "313/313 [==============================] - 1s 3ms/step - loss: 14249.0244 - accuracy: 0.8166\n",
            "test_acc: 0.8166000247001648\n"
          ],
          "name": "stdout"
        }
      ]
    },
    {
      "cell_type": "code",
      "metadata": {
        "colab": {
          "base_uri": "https://localhost:8080/"
        },
        "id": "hBBEezFAkej3",
        "outputId": "7709e83e-1152-49d2-b0b9-5e4143d533c1"
      },
      "source": [
        "# Tensores\n",
        "print('Tensor de 0D también conocido cómo \"escalar\"')\n",
        "x=np.array(12)\n",
        "print(x)\n",
        "\n",
        "print('Tensor de 1D también conocido cómo \"vector\"')\n",
        "y=np.array([12,3,6,14])\n",
        "print(y)\n",
        "\n",
        "print('Tensor de 2D también conocido cómo \"matriz\"')\n",
        "z=np.array([[5,78,2,34,0],\n",
        "            [6,79,3,35,1],\n",
        "            [7,80,4,36,2]])\n",
        "print(z)\n",
        "\n",
        "print('Tensor de 3D también conocido cómo \"matriz de matrices\"')\n",
        "w=np.array([[[5,78,2,34,0],\n",
        "             [6,79,3,35,1],\n",
        "             [7,80,4,36,2]],\n",
        "            [[5,78,2,34,0],\n",
        "             [6,79,3,35,1],\n",
        "             [7,80,4,36,2]],\n",
        "            [[5,78,2,34,0],\n",
        "             [6,79,3,35,1],\n",
        "             [7,80,4,36,2]]])\n",
        "print(w)"
      ],
      "execution_count": null,
      "outputs": [
        {
          "output_type": "stream",
          "text": [
            "Tensor de 0D también conocido cómo \"escalar\"\n",
            "12\n",
            "Tensor de 1D también conocido cómo \"vector\"\n",
            "[12  3  6 14]\n",
            "Tensor de 2D también conocido cómo \"matriz\"\n",
            "[[ 5 78  2 34  0]\n",
            " [ 6 79  3 35  1]\n",
            " [ 7 80  4 36  2]]\n",
            "Tensor de 3D también conocido cómo \"matriz de matrices\"\n",
            "[[[ 5 78  2 34  0]\n",
            "  [ 6 79  3 35  1]\n",
            "  [ 7 80  4 36  2]]\n",
            "\n",
            " [[ 5 78  2 34  0]\n",
            "  [ 6 79  3 35  1]\n",
            "  [ 7 80  4 36  2]]\n",
            "\n",
            " [[ 5 78  2 34  0]\n",
            "  [ 6 79  3 35  1]\n",
            "  [ 7 80  4 36  2]]]\n"
          ],
          "name": "stdout"
        }
      ]
    },
    {
      "cell_type": "code",
      "metadata": {
        "colab": {
          "base_uri": "https://localhost:8080/"
        },
        "id": "WyODYmJ-lW-P",
        "outputId": "4604f857-44b7-405d-fb49-4659379f4a80"
      },
      "source": [
        "#Dimensionalidad de los tensores\n",
        "print('Un tensor 0D tiene un rango o axis de:',x.ndim)\n",
        "print('Un tensor 1D tiene un rango o axis de:',y.ndim)\n",
        "print('Un tensor 2D tiene un rango o axis de:',z.ndim)\n",
        "print('Un tensor 3D tiene un rango o axis de:',w.ndim)"
      ],
      "execution_count": null,
      "outputs": [
        {
          "output_type": "stream",
          "text": [
            "Un tensor 0D tiene un rango o axis de: 0\n",
            "Un tensor 1D tiene un rango o axis de: 1\n",
            "Un tensor 2D tiene un rango o axis de: 2\n",
            "Un tensor 3D tiene un rango o axis de: 3\n"
          ],
          "name": "stdout"
        }
      ]
    },
    {
      "cell_type": "code",
      "metadata": {
        "colab": {
          "base_uri": "https://localhost:8080/",
          "height": 282
        },
        "id": "L8Q9H74ctF2C",
        "outputId": "1229fe48-4ec9-40a8-d01b-241f3b9db0db"
      },
      "source": [
        "# Digitos de MNIST\n",
        "digito=tr_img[4]\n",
        "plt.imshow(digito,cmap=plt.cm.binary)\n",
        "plt.show\n",
        "\n",
        "'''\n",
        "Para correr esta celda es importante no haber corrido \n",
        "antes la celda en donde se cambia el tamaño de las \n",
        "imágenes para entrenar a la red\n",
        "'''"
      ],
      "execution_count": null,
      "outputs": [
        {
          "output_type": "execute_result",
          "data": {
            "text/plain": [
              "<function matplotlib.pyplot.show>"
            ]
          },
          "metadata": {
            "tags": []
          },
          "execution_count": 16
        },
        {
          "output_type": "display_data",
          "data": {
            "image/png": "[encoded data removed]",
            "text/plain": [
              "<Figure size 432x288 with 1 Axes>"
            ]
          },
          "metadata": {
            "tags": [],
            "needs_background": "light"
          }
        }
      ]
    },
    {
      "cell_type": "code",
      "metadata": {
        "colab": {
          "base_uri": "https://localhost:8080/"
        },
        "id": "by5eyrAWwX0R",
        "outputId": "7dfed34a-8745-4850-953e-6f93d13d7b65"
      },
      "source": [
        "#Manipulando tensores con Numpy\n",
        "print('Imágenes de entrenamiento antes de partilas en rebanadas')\n",
        "print(tr_img.shape)\n",
        "print('Se tienen',tr_img.shape[0],'imágenes, de',\n",
        "      tr_img.shape[1],'por',tr_img.shape[2],'pixeles')\n",
        "\n",
        "print('\\nImágenes de entrenamiento depúes de partilas en rebanadas')\n",
        "rebanada=tr_img[10:100]\n",
        "print(rebanada.shape)\n",
        "print('Se tienen',rebanada.shape[0],'imágenes, de',\n",
        "      rebanada.shape[1],'por',rebanada.shape[2],'pixeles')"
      ],
      "execution_count": null,
      "outputs": [
        {
          "output_type": "stream",
          "text": [
            "Imágenes de entrenamiento antes de partilas en rebanadas\n",
            "(60000, 28, 28)\n",
            "Se tienen 60000 imagenes, de 28 por 28 pixeles\n",
            "\n",
            "Imágenes de entrenamiento depúes de partilas en rebanadas\n",
            "(90, 28, 28)\n",
            "Se tienen 90 imagenes, de 28 por 28 pixeles\n"
          ],
          "name": "stdout"
        }
      ]
    },
    {
      "cell_type": "code",
      "metadata": {
        "colab": {
          "base_uri": "https://localhost:8080/",
          "height": 299
        },
        "id": "-lgGlUFy4eWT",
        "outputId": "5a50b15d-4248-4893-cb38-4ea9e2ff6ac1"
      },
      "source": [
        "digito=tr_img[0]\n",
        "plt.imshow(digito,cmap=plt.cm.binary)\n",
        "print('Primera imagen antes de rebanar el conjunto de imágenes')\n",
        "plt.show"
      ],
      "execution_count": null,
      "outputs": [
        {
          "output_type": "stream",
          "text": [
            "Primera imagen antes de rebanar el conjunto de imágenes\n"
          ],
          "name": "stdout"
        },
        {
          "output_type": "execute_result",
          "data": {
            "text/plain": [
              "<function matplotlib.pyplot.show>"
            ]
          },
          "metadata": {
            "tags": []
          },
          "execution_count": 39
        },
        {
          "output_type": "display_data",
          "data": {
            "image/png": "[encoded data removed]",
            "text/plain": [
              "<Figure size 432x288 with 1 Axes>"
            ]
          },
          "metadata": {
            "tags": [],
            "needs_background": "light"
          }
        }
      ]
    },
    {
      "cell_type": "code",
      "metadata": {
        "colab": {
          "base_uri": "https://localhost:8080/",
          "height": 299
        },
        "id": "ZghuXS584pag",
        "outputId": "6863b658-41b7-4017-bb5f-7e49ceec72e6"
      },
      "source": [
        "digito=rebanada[0]\n",
        "plt.imshow(digito,cmap=plt.cm.binary)\n",
        "print('Primera imagen después de rebanar el conjunto de imágenes')\n",
        "plt.show"
      ],
      "execution_count": null,
      "outputs": [
        {
          "output_type": "stream",
          "text": [
            "Primera imagen después de rebanar el conjunto de imágenes\n"
          ],
          "name": "stdout"
        },
        {
          "output_type": "execute_result",
          "data": {
            "text/plain": [
              "<function matplotlib.pyplot.show>"
            ]
          },
          "metadata": {
            "tags": []
          },
          "execution_count": 40
        },
        {
          "output_type": "display_data",
          "data": {
            "image/png": "[encoded data removed]",
            "text/plain": [
              "<Figure size 432x288 with 1 Axes>"
            ]
          },
          "metadata": {
            "tags": [],
            "needs_background": "light"
          }
        }
      ]
    },
    {
      "cell_type": "code",
      "metadata": {
        "id": "sdZqNhXH5g5m"
      },
      "source": [
        "#Cortando imágenes\n",
        "rebanada_img=tr_img[:,:14,14:]"
      ],
      "execution_count": null,
      "outputs": []
    },
    {
      "cell_type": "code",
      "metadata": {
        "colab": {
          "base_uri": "https://localhost:8080/",
          "height": 282
        },
        "id": "C4bIBpUJzW3w",
        "outputId": "e0b76650-0d59-4fa0-a29c-92e5790b2cd7"
      },
      "source": [
        "digito=rebanada_img[0]\n",
        "plt.imshow(digito,cmap=plt.cm.binary)\n",
        "plt.show"
      ],
      "execution_count": null,
      "outputs": [
        {
          "output_type": "execute_result",
          "data": {
            "text/plain": [
              "<function matplotlib.pyplot.show>"
            ]
          },
          "metadata": {
            "tags": []
          },
          "execution_count": 41
        },
        {
          "output_type": "display_data",
          "data": {
            "image/png": "[encoded data removed]",
            "text/plain": [
              "<Figure size 432x288 with 1 Axes>"
            ]
          },
          "metadata": {
            "tags": [],
            "needs_background": "light"
          }
        }
      ]
    },
    {
      "cell_type": "code",
      "metadata": {
        "colab": {
          "base_uri": "https://localhost:8080/",
          "height": 282
        },
        "id": "DGchLSdX6lNv",
        "outputId": "c088fb54-17f6-43a1-d1df-19816704ecc5"
      },
      "source": [
        "rebanada_img=tr_img[:,7:-7,7:-7]\n",
        "digito=rebanada_img[0]\n",
        "plt.imshow(digito,cmap=plt.cm.binary)\n",
        "plt.show"
      ],
      "execution_count": null,
      "outputs": [
        {
          "output_type": "execute_result",
          "data": {
            "text/plain": [
              "<function matplotlib.pyplot.show>"
            ]
          },
          "metadata": {
            "tags": []
          },
          "execution_count": 43
        },
        {
          "output_type": "display_data",
          "data": {
            "image/png": "[encoded data removed]",
            "text/plain": [
              "<Figure size 432x288 with 1 Axes>"
            ]
          },
          "metadata": {
            "tags": [],
            "needs_background": "light"
          }
        }
      ]
    },
    {
      "cell_type": "code",
      "metadata": {
        "id": "J52EhmyQ67Q5",
        "colab": {
          "base_uri": "https://localhost:8080/"
        },
        "outputId": "16d25630-716b-4781-dbd1-b6b38b9d11be"
      },
      "source": [
        "#La idea de los batches de datos\n",
        "batch=tr_img[:128]\n",
        "print('El primer batch está compuesto por los números:',\n",
        "      tr_lbls[:128])\n",
        "print('Y tiene un tamaño de:',batch.shape)"
      ],
      "execution_count": null,
      "outputs": [
        {
          "output_type": "stream",
          "text": [
            "El primer batch está compuesto por los números: [5 0 4 1 9 2 1 3 1 4 3 5 3 6 1 7 2 8 6 9 4 0 9 1 1 2 4 3 2 7 3 8 6 9 0 5 6\n",
            " 0 7 6 1 8 7 9 3 9 8 5 9 3 3 0 7 4 9 8 0 9 4 1 4 4 6 0 4 5 6 1 0 0 1 7 1 6\n",
            " 3 0 2 1 1 7 9 0 2 6 7 8 3 9 0 4 6 7 4 6 8 0 7 8 3 1 5 7 1 7 1 1 6 3 0 2 9\n",
            " 3 1 1 0 4 9 2 0 0 2 0 2 7 1 8 6 4]\n",
            "Y tiene un tamaño de: (128, 28, 28)\n"
          ],
          "name": "stdout"
        }
      ]
    },
    {
      "cell_type": "code",
      "metadata": {
        "colab": {
          "base_uri": "https://localhost:8080/"
        },
        "id": "_hoq5msK4RM9",
        "outputId": "4d37c8bf-9961-471b-faec-fa58cc2851a6"
      },
      "source": [
        "batch=tr_img[128:256]\n",
        "print('El segundo batch está compesuto por los números',tr_lbls[128:256])\n",
        "print('Y tiene un tamañano de:',batch.shape)"
      ],
      "execution_count": null,
      "outputs": [
        {
          "output_type": "stream",
          "text": [
            "El segundo batch está compesuto por los números [1 6 3 4 5 9 1 3 3 8 5 4 7 7 4 2 8 5 8 6 7 3 4 6 1 9 9 6 0 3 7 2 8 2 9 4 4\n",
            " 6 4 9 7 0 9 2 9 5 1 5 9 1 2 3 2 3 5 9 1 7 6 2 8 2 2 5 0 7 4 9 7 8 3 2 1 1\n",
            " 8 3 6 1 0 3 1 0 0 1 7 2 7 3 0 4 6 5 2 6 4 7 1 8 9 9 3 0 7 1 0 2 0 3 5 4 6\n",
            " 5 8 6 3 7 5 8 0 9 1 0 3 1 2 2 3 3]\n",
            "Y tiene un tamañano de: (128, 28, 28)\n"
          ],
          "name": "stdout"
        }
      ]
    },
    {
      "cell_type": "markdown",
      "metadata": {
        "id": "bhS-ofk0BsfQ"
      },
      "source": [
        "1.  Dataset de 10,000 personas en donde se cconsidera\n",
        "su edad, su códgio postal y su ingrenso, el data set sería un tensor 2D (10000,3) el batch axis sería '10000' que es donde están almacenddos los datos de cada persona\n",
        "2. Dataset contenga cuantas veces se repiten las primeras 20,000 palabras en 500 dicionarios quedaría "
      ]
    },
    {
      "cell_type": "code",
      "metadata": {
        "id": "vgfLJYjdBLLo"
      },
      "source": [
        ""
      ],
      "execution_count": null,
      "outputs": []
    }
  ]
}